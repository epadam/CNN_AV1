{
  "nbformat": 4,
  "nbformat_minor": 0,
  "metadata": {
    "colab": {
      "name": "training.ipynb",
      "provenance": [],
      "collapsed_sections": [],
      "include_colab_link": true
    },
    "kernelspec": {
      "name": "python3",
      "display_name": "Python 3"
    }
  },
  "cells": [
    {
      "cell_type": "markdown",
      "metadata": {
        "id": "view-in-github",
        "colab_type": "text"
      },
      "source": [
        "<a href=\"https://colab.research.google.com/github/epadam/CNN_AV1/blob/master/training/training.ipynb\" target=\"_parent\"><img src=\"https://colab.research.google.com/assets/colab-badge.svg\" alt=\"Open In Colab\"/></a>"
      ]
    },
    {
      "cell_type": "code",
      "metadata": {
        "id": "kGXyub1PGLAd",
        "colab_type": "code",
        "colab": {}
      },
      "source": [
        "import os, sys, pickle, json\n",
        "from os import makedirs\n",
        "from os.path import exists, join\n",
        "import tensorflow as tf\n",
        "import numpy as np\n",
        "import matplotlib.pyplot as plt\n",
        "from tensorflow import keras\n",
        "from tensorflow.keras.models import load_model\n",
        "from tensorflow.keras.callbacks import TensorBoard\n",
        "from sklearn.metrics import classification_report, confusion_matrix\n",
        "from sklearn.utils.multiclass import unique_labels"
      ],
      "execution_count": 0,
      "outputs": []
    },
    {
      "cell_type": "code",
      "metadata": {
        "id": "GZDqHMuWOOR0",
        "colab_type": "code",
        "colab": {
          "base_uri": "https://localhost:8080/",
          "height": 153
        },
        "outputId": "422bcda8-f334-45cb-ea0d-1c19aac5a01d"
      },
      "source": [
        "import urllib.request\n",
        "#request dataset for 64\n",
        "urllib.request.urlretrieve('http://download2269.mediafire.com/n3loxvto5yag/txp7zspyh5njd7o/merge_aecf_samples_64_intra_uint8.txt', 'undersampling_pixel_64.txt')\n",
        "urllib.request.urlretrieve('http://download2268.mediafire.com/pmniu1lnafkg/6uxaiphdd61m10n/merge_aecf_labels_64_intra.txt', 'undersampling_labels_64.txt')\n",
        "urllib.request.urlretrieve('http://download1525.mediafire.com/xakscozs0qxg/n6y8a8negm2yzhe/merge_aecf_qps_64_intra.txt', 'undersampling_QPs_64.txt')\n",
        "\n",
        "os.listdir()"
      ],
      "execution_count": 49,
      "outputs": [
        {
          "output_type": "execute_result",
          "data": {
            "text/plain": [
              "['.config',\n",
              " 'ash_qps_16_intra.txt',\n",
              " 'undersampling_QPs_64.txt',\n",
              " 'undersampling_pixel_64.txt',\n",
              " 'ash_labels_16_intra.txt',\n",
              " 'ash_qps_32_intra.txt',\n",
              " 'undersampling_labels_64.txt',\n",
              " 'sample_data']"
            ]
          },
          "metadata": {
            "tags": []
          },
          "execution_count": 49
        }
      ]
    },
    {
      "cell_type": "code",
      "metadata": {
        "id": "RGj1jb8RcqFQ",
        "colab_type": "code",
        "colab": {}
      },
      "source": [
        "batch_size = 128\n",
        "num_classes = 10\n",
        "block_size = 64\n",
        "NUM_CHANNELS = 1\n",
        "epochs = 50"
      ],
      "execution_count": 0,
      "outputs": []
    },
    {
      "cell_type": "code",
      "metadata": {
        "id": "HLU3E-gjU4Pl",
        "colab_type": "code",
        "colab": {
          "base_uri": "https://localhost:8080/",
          "height": 136
        },
        "outputId": "2b088829-ca44-4196-cace-90bf1e458dcf"
      },
      "source": [
        "sample_file = 'undersampling_pixel_64.txt'\n",
        "label_file = 'undersampling_labels_64.txt'\n",
        "qp_file = 'undersampling_QPs_64.txt'\n",
        "\n",
        "with open(sample_file, 'rb') as f:\n",
        "    pixels = f.read()\n",
        "    raw = np.frombuffer(pixels, dtype = np.uint8)\n",
        "    raw = np.reshape(raw, [-1, block_size, block_size, NUM_CHANNELS])\n",
        "    print(np.shape(raw))\n",
        "    raw_train = raw[:len(raw)//10*9]\n",
        "    print(np.shape(raw_train))\n",
        "    raw_test = raw[-len(raw)//10:]\n",
        "    print(np.shape(raw_test))\n",
        "\n",
        "\n",
        "with open(label_file, 'r') as f_single_label:\n",
        "    single_label = f_single_label.read()    \n",
        "    single_label =np.fromstring (single_label, dtype=np.uint8 ,sep=' ')\n",
        "    single_label = np.reshape(single_label, [-1])\n",
        "    y_test = single_label[-len(raw)//10:]\n",
        "    single_label = keras.utils.to_categorical(single_label, num_classes)\n",
        "    #print(np.shape(single_label))\n",
        "    label_train = single_label[:len(raw)//10*9]\n",
        "    label_test = single_label[-len(raw)//10:]\n",
        "    print(np.shape(label_train))\n",
        "    print(np.shape(label_test))\n",
        "\n",
        "\n",
        "with open(qp_file, 'r') as f_qp:\n",
        "    qps = f_qp.read()\n",
        "    qps =np.fromstring (qps, dtype=np.uint8, sep=' ')\n",
        "    qps = np.reshape(qps, [-1,1])\n",
        "    #print(np.shape(qps))\n",
        "    qp_train = qps[:len(raw)//10*9]\n",
        "    qp_test = qps[-len(raw)//10:]\n",
        "    print(np.shape(qp_train))\n",
        "    print(np.shape(qp_test))\n"
      ],
      "execution_count": 88,
      "outputs": [
        {
          "output_type": "stream",
          "text": [
            "(4550, 64, 64, 1)\n",
            "(4095, 64, 64, 1)\n",
            "(455, 64, 64, 1)\n",
            "(4095, 10)\n",
            "(455, 10)\n",
            "(4095, 1)\n",
            "(455, 1)\n"
          ],
          "name": "stdout"
        }
      ]
    },
    {
      "cell_type": "code",
      "metadata": {
        "id": "yoPMXfYscmfq",
        "colab_type": "code",
        "colab": {}
      },
      "source": [
        "# check how the samples look like\n",
        "image = np.reshape(raw, [-1, block_size, block_size])\n",
        "for i in range(10):\n",
        "\tprint('partition=',single_label[i], 'QP=',qps[i,0])\n",
        "\tplt.imshow(image[i], cmap='gray')\n",
        "\tplt.colorbar()\n",
        "\tplt.show()"
      ],
      "execution_count": 0,
      "outputs": []
    },
    {
      "cell_type": "code",
      "metadata": {
        "id": "BBwRijUIgnYk",
        "colab_type": "code",
        "colab": {}
      },
      "source": [
        "from tensorflow.keras import optimizers, backend\n",
        "from tensorflow.keras.models import Sequential, Model\n",
        "from tensorflow.keras.layers import Input, Dense, Dropout, Activation, Flatten, Concatenate, Conv2D, MaxPooling2D, Lambda, BatchNormalization, AveragePooling2D\n",
        "from tensorflow.keras.callbacks import TensorBoard\n",
        "from tensorflow.keras.utils import plot_model"
      ],
      "execution_count": 0,
      "outputs": []
    },
    {
      "cell_type": "code",
      "metadata": {
        "id": "ifitVpAIg6Ss",
        "colab_type": "code",
        "colab": {}
      },
      "source": [
        "def sub_mean(x):\n",
        "    x = x/255\n",
        "    x = x - backend.mean(x)   \n",
        "    return x\n",
        "\n",
        "\n",
        "def m1_64():\n",
        "\n",
        "    data = Input(shape=(block_size,block_size,NUM_CHANNELS))\n",
        "\n",
        "    data_norm = Lambda(sub_mean)(data)\n",
        "\n",
        "    data_pooling = AveragePooling2D(pool_size=(4, 4),padding='valid')(data_norm)\n",
        "\n",
        "    conv1 = Conv2D(16, (4, 4), strides =(4,4), activation='relu', padding='valid')(data_pooling)\n",
        "    conv1_d = Dropout(0.5)(conv1)\n",
        "\n",
        "    conv2 = Conv2D(24, (2, 2), strides =(2,2), activation='relu', padding='valid')(conv1_d)\n",
        "    conv2_d = Dropout(0.5)(conv2)\n",
        "    flat2 = Flatten()(conv2_d)\n",
        "\n",
        "    conv3 = Conv2D(32, (2, 2), strides =(2,2), activation='relu', padding='valid')(conv2_d)\n",
        "    conv3_d = Dropout(0.5)(conv3)\n",
        "    flat3 = Flatten()(conv3_d)\n",
        "\n",
        "    qp = Input(shape=(1,))\n",
        "    qp_n = Lambda(lambda x: x/255)(qp)\n",
        "\n",
        "    concat = Concatenate(axis=1)([flat2, flat3, qp_n])\n",
        "\n",
        "    fc1 = Dense(64, activation='relu')(concat)\n",
        "    fc1_d = Dropout(0.5)(fc1)\n",
        "    fc1_qp = Concatenate(axis=1)([fc1_d, qp_n])\n",
        "\n",
        "    fc2 = Dense(48, activation='relu')(fc1_qp)\n",
        "    fc2_d = Dropout(0.5)(fc2)\n",
        "    fc2_qp = Concatenate(axis=1)([fc2_d, qp_n])\n",
        "    \n",
        "    output = Dense(num_classes, activation='softmax')(fc2_qp)\n",
        "\n",
        "    model = Model(inputs=[data,qp], outputs=output)\n",
        "\n",
        "    model.summary()\n",
        "\n",
        "    model.compile(loss='categorical_crossentropy',\n",
        "                  optimizer=keras.optimizers.Adam(lr=0.001),\n",
        "                  metrics=['accuracy'])\n",
        "    \n",
        "    return model\n",
        "\n",
        "def m2_64():\n",
        "\n",
        "    image = Input(shape=(block_size,block_size,NUM_CHANNELS))\n",
        "\n",
        "    image_norm = Lambda(sub_mean)(image)\n",
        "\n",
        "    #data_print=Lambda(lambda x: tf.Print(x[:,], [x], message='data', summarize=-1))(data_norm)\n",
        "    data_pooling = AveragePooling2D(pool_size=(4, 4),padding='valid')(image_norm)\n",
        "\n",
        "    conv1 = Conv2D(32, (3, 3), strides =(1,1),padding='valid', activation='relu')(data_pooling)\n",
        "    #conv1_Norm = BatchNormalization()(conv1)\n",
        "    conv1_dropout = Dropout(rate = 0.7)(conv1)\n",
        "\n",
        "    conv2 = Conv2D(64, (3, 3), strides =(1,1), padding='valid', activation='relu')(conv1_dropout)\n",
        "    #conv2_Norm = BatchNormalization()(conv2)\n",
        "    conv2_dropout = Dropout(rate = 0.7)(conv2)\n",
        "    \n",
        "    pooling1 = MaxPooling2D(pool_size=(2, 2))(conv2_dropout)\n",
        "   \n",
        "    flat2 = Flatten()(pooling1)\n",
        "\n",
        "    qp = Input(shape=(1,))\n",
        "    qp_n = Lambda(lambda x: x/255)(qp)\n",
        "\n",
        "    flat2_qp = Concatenate(axis=1)([flat2, qp_n])\n",
        "\n",
        "    fc1 = Dense(128, activation='relu')(flat2_qp)\n",
        "    fc1_d = Dropout(rate = 0.7)(fc1)\n",
        "\n",
        "    fc1_qp = Concatenate(axis=1)([fc1_d, qp_n])\n",
        "\n",
        "    output = Dense(num_classes, activation='softmax')(fc1_qp)\n",
        "\n",
        "    model = Model(inputs=[image,qp], outputs=output)\n",
        "\n",
        "    model.summary()\n",
        "\n",
        "    model.compile(loss='categorical_crossentropy',\n",
        "                  optimizer=keras.optimizers.Adam(lr=0.001),\n",
        "                  metrics=['accuracy'])\n",
        "\n",
        "    return model\n",
        "  "
      ],
      "execution_count": 0,
      "outputs": []
    },
    {
      "cell_type": "code",
      "metadata": {
        "id": "FqRaJvWMhelT",
        "colab_type": "code",
        "colab": {
          "base_uri": "https://localhost:8080/",
          "height": 731
        },
        "outputId": "fd420e3a-468b-46e2-9f23-a25c314a1903"
      },
      "source": [
        "model = m2_64()"
      ],
      "execution_count": 91,
      "outputs": [
        {
          "output_type": "stream",
          "text": [
            "Model: \"model_4\"\n",
            "__________________________________________________________________________________________________\n",
            "Layer (type)                    Output Shape         Param #     Connected to                     \n",
            "==================================================================================================\n",
            "input_10 (InputLayer)           [(None, 64, 64, 1)]  0                                            \n",
            "__________________________________________________________________________________________________\n",
            "lambda_9 (Lambda)               (None, 64, 64, 1)    0           input_10[0][0]                   \n",
            "__________________________________________________________________________________________________\n",
            "average_pooling2d_1 (AveragePoo (None, 16, 16, 1)    0           lambda_9[0][0]                   \n",
            "__________________________________________________________________________________________________\n",
            "conv2d_11 (Conv2D)              (None, 14, 14, 32)   320         average_pooling2d_1[0][0]        \n",
            "__________________________________________________________________________________________________\n",
            "dropout_18 (Dropout)            (None, 14, 14, 32)   0           conv2d_11[0][0]                  \n",
            "__________________________________________________________________________________________________\n",
            "conv2d_12 (Conv2D)              (None, 12, 12, 64)   18496       dropout_18[0][0]                 \n",
            "__________________________________________________________________________________________________\n",
            "dropout_19 (Dropout)            (None, 12, 12, 64)   0           conv2d_12[0][0]                  \n",
            "__________________________________________________________________________________________________\n",
            "max_pooling2d_1 (MaxPooling2D)  (None, 6, 6, 64)     0           dropout_19[0][0]                 \n",
            "__________________________________________________________________________________________________\n",
            "input_11 (InputLayer)           [(None, 1)]          0                                            \n",
            "__________________________________________________________________________________________________\n",
            "flatten_7 (Flatten)             (None, 2304)         0           max_pooling2d_1[0][0]            \n",
            "__________________________________________________________________________________________________\n",
            "lambda_10 (Lambda)              (None, 1)            0           input_11[0][0]                   \n",
            "__________________________________________________________________________________________________\n",
            "concatenate_11 (Concatenate)    (None, 2305)         0           flatten_7[0][0]                  \n",
            "                                                                 lambda_10[0][0]                  \n",
            "__________________________________________________________________________________________________\n",
            "dense_11 (Dense)                (None, 128)          295168      concatenate_11[0][0]             \n",
            "__________________________________________________________________________________________________\n",
            "dropout_20 (Dropout)            (None, 128)          0           dense_11[0][0]                   \n",
            "__________________________________________________________________________________________________\n",
            "concatenate_12 (Concatenate)    (None, 129)          0           dropout_20[0][0]                 \n",
            "                                                                 lambda_10[0][0]                  \n",
            "__________________________________________________________________________________________________\n",
            "dense_12 (Dense)                (None, 10)           1300        concatenate_12[0][0]             \n",
            "==================================================================================================\n",
            "Total params: 315,284\n",
            "Trainable params: 315,284\n",
            "Non-trainable params: 0\n",
            "__________________________________________________________________________________________________\n"
          ],
          "name": "stdout"
        }
      ]
    },
    {
      "cell_type": "code",
      "metadata": {
        "id": "kkG_VEEZhvuZ",
        "colab_type": "code",
        "colab": {
          "base_uri": "https://localhost:8080/",
          "height": 1000
        },
        "outputId": "c338df70-1d88-48da-efae-0142e19a1dd4"
      },
      "source": [
        "history = model.fit([raw_train, qp_train], label_train, validation_data=([raw_test, qp_test], label_test), batch_size=batch_size, epochs=50, verbose=1)\n"
      ],
      "execution_count": 99,
      "outputs": [
        {
          "output_type": "stream",
          "text": [
            "Train on 4095 samples, validate on 455 samples\n",
            "Epoch 1/50\n",
            "4095/4095 [==============================] - 4s 925us/sample - loss: 2.1849 - acc: 0.1878 - val_loss: 2.2286 - val_acc: 0.1670\n",
            "Epoch 2/50\n",
            "4095/4095 [==============================] - 4s 900us/sample - loss: 2.1759 - acc: 0.1929 - val_loss: 2.2252 - val_acc: 0.1912\n",
            "Epoch 3/50\n",
            "4095/4095 [==============================] - 4s 910us/sample - loss: 2.1598 - acc: 0.1956 - val_loss: 2.2169 - val_acc: 0.1956\n",
            "Epoch 4/50\n",
            "4095/4095 [==============================] - 4s 923us/sample - loss: 2.1637 - acc: 0.1958 - val_loss: 2.2159 - val_acc: 0.1890\n",
            "Epoch 5/50\n",
            "4095/4095 [==============================] - 4s 927us/sample - loss: 2.1567 - acc: 0.2085 - val_loss: 2.2128 - val_acc: 0.2000\n",
            "Epoch 6/50\n",
            "4095/4095 [==============================] - 4s 942us/sample - loss: 2.1483 - acc: 0.2129 - val_loss: 2.2038 - val_acc: 0.1956\n",
            "Epoch 7/50\n",
            "4095/4095 [==============================] - 4s 920us/sample - loss: 2.1426 - acc: 0.2107 - val_loss: 2.1983 - val_acc: 0.2000\n",
            "Epoch 8/50\n",
            "4095/4095 [==============================] - 4s 914us/sample - loss: 2.1337 - acc: 0.2186 - val_loss: 2.1917 - val_acc: 0.2066\n",
            "Epoch 9/50\n",
            "4095/4095 [==============================] - 4s 889us/sample - loss: 2.1357 - acc: 0.2144 - val_loss: 2.1931 - val_acc: 0.2352\n",
            "Epoch 10/50\n",
            "4095/4095 [==============================] - 4s 932us/sample - loss: 2.1223 - acc: 0.2254 - val_loss: 2.1871 - val_acc: 0.2264\n",
            "Epoch 11/50\n",
            "4095/4095 [==============================] - 4s 901us/sample - loss: 2.1062 - acc: 0.2276 - val_loss: 2.1754 - val_acc: 0.2374\n",
            "Epoch 12/50\n",
            "4095/4095 [==============================] - 4s 894us/sample - loss: 2.0970 - acc: 0.2217 - val_loss: 2.1636 - val_acc: 0.2374\n",
            "Epoch 13/50\n",
            "4095/4095 [==============================] - 4s 858us/sample - loss: 2.0834 - acc: 0.2396 - val_loss: 2.1428 - val_acc: 0.2593\n",
            "Epoch 14/50\n",
            "4095/4095 [==============================] - 4s 905us/sample - loss: 2.0794 - acc: 0.2369 - val_loss: 2.1594 - val_acc: 0.2418\n",
            "Epoch 15/50\n",
            "4095/4095 [==============================] - 4s 894us/sample - loss: 2.0738 - acc: 0.2383 - val_loss: 2.1580 - val_acc: 0.2352\n",
            "Epoch 16/50\n",
            "4095/4095 [==============================] - 3s 847us/sample - loss: 2.0811 - acc: 0.2354 - val_loss: 2.1350 - val_acc: 0.2571\n",
            "Epoch 17/50\n",
            "4095/4095 [==============================] - 3s 835us/sample - loss: 2.0535 - acc: 0.2527 - val_loss: 2.1317 - val_acc: 0.2681\n",
            "Epoch 18/50\n",
            "4095/4095 [==============================] - 4s 889us/sample - loss: 2.0563 - acc: 0.2510 - val_loss: 2.1207 - val_acc: 0.2637\n",
            "Epoch 19/50\n",
            "4095/4095 [==============================] - 4s 875us/sample - loss: 2.0430 - acc: 0.2603 - val_loss: 2.1221 - val_acc: 0.2484\n",
            "Epoch 20/50\n",
            "4095/4095 [==============================] - 4s 913us/sample - loss: 2.0456 - acc: 0.2623 - val_loss: 2.1211 - val_acc: 0.2659\n",
            "Epoch 21/50\n",
            "4095/4095 [==============================] - 4s 890us/sample - loss: 2.0273 - acc: 0.2620 - val_loss: 2.1094 - val_acc: 0.2857\n",
            "Epoch 22/50\n",
            "4095/4095 [==============================] - 4s 902us/sample - loss: 2.0379 - acc: 0.2635 - val_loss: 2.1170 - val_acc: 0.2791\n",
            "Epoch 23/50\n",
            "4095/4095 [==============================] - 4s 916us/sample - loss: 2.0285 - acc: 0.2589 - val_loss: 2.0968 - val_acc: 0.2813\n",
            "Epoch 24/50\n",
            "4095/4095 [==============================] - 4s 917us/sample - loss: 2.0210 - acc: 0.2696 - val_loss: 2.1140 - val_acc: 0.2747\n",
            "Epoch 25/50\n",
            "4095/4095 [==============================] - 4s 917us/sample - loss: 2.0395 - acc: 0.2632 - val_loss: 2.1062 - val_acc: 0.2769\n",
            "Epoch 26/50\n",
            "4095/4095 [==============================] - 4s 905us/sample - loss: 2.0223 - acc: 0.2723 - val_loss: 2.1132 - val_acc: 0.2571\n",
            "Epoch 27/50\n",
            "4095/4095 [==============================] - 4s 914us/sample - loss: 2.0134 - acc: 0.2630 - val_loss: 2.0928 - val_acc: 0.2857\n",
            "Epoch 28/50\n",
            "4095/4095 [==============================] - 4s 870us/sample - loss: 1.9992 - acc: 0.2759 - val_loss: 2.0804 - val_acc: 0.2659\n",
            "Epoch 29/50\n",
            "4095/4095 [==============================] - 4s 880us/sample - loss: 1.9917 - acc: 0.2930 - val_loss: 2.0813 - val_acc: 0.2681\n",
            "Epoch 30/50\n",
            "4095/4095 [==============================] - 4s 902us/sample - loss: 2.0042 - acc: 0.2733 - val_loss: 2.0728 - val_acc: 0.2637\n",
            "Epoch 31/50\n",
            "4095/4095 [==============================] - 4s 913us/sample - loss: 1.9869 - acc: 0.2906 - val_loss: 2.0774 - val_acc: 0.2901\n",
            "Epoch 32/50\n",
            "4095/4095 [==============================] - 4s 920us/sample - loss: 1.9751 - acc: 0.2781 - val_loss: 2.0640 - val_acc: 0.2923\n",
            "Epoch 33/50\n",
            "4095/4095 [==============================] - 4s 902us/sample - loss: 1.9950 - acc: 0.2847 - val_loss: 2.0777 - val_acc: 0.2703\n",
            "Epoch 34/50\n",
            "4095/4095 [==============================] - 4s 925us/sample - loss: 1.9875 - acc: 0.2886 - val_loss: 2.0823 - val_acc: 0.2945\n",
            "Epoch 35/50\n",
            "4095/4095 [==============================] - 4s 918us/sample - loss: 1.9888 - acc: 0.2860 - val_loss: 2.0695 - val_acc: 0.2879\n",
            "Epoch 36/50\n",
            "4095/4095 [==============================] - 4s 886us/sample - loss: 1.9802 - acc: 0.2742 - val_loss: 2.0588 - val_acc: 0.3143\n",
            "Epoch 37/50\n",
            "4095/4095 [==============================] - 4s 897us/sample - loss: 1.9650 - acc: 0.2838 - val_loss: 2.0527 - val_acc: 0.3077\n",
            "Epoch 38/50\n",
            "4095/4095 [==============================] - 4s 898us/sample - loss: 1.9649 - acc: 0.2945 - val_loss: 2.0477 - val_acc: 0.2769\n",
            "Epoch 39/50\n",
            "4095/4095 [==============================] - 4s 900us/sample - loss: 1.9624 - acc: 0.2847 - val_loss: 2.0455 - val_acc: 0.2835\n",
            "Epoch 40/50\n",
            "4095/4095 [==============================] - 4s 917us/sample - loss: 1.9534 - acc: 0.2962 - val_loss: 2.0557 - val_acc: 0.2879\n",
            "Epoch 41/50\n",
            "4095/4095 [==============================] - 4s 918us/sample - loss: 1.9598 - acc: 0.2962 - val_loss: 2.0473 - val_acc: 0.2835\n",
            "Epoch 42/50\n",
            "4095/4095 [==============================] - 4s 904us/sample - loss: 1.9532 - acc: 0.2904 - val_loss: 2.0405 - val_acc: 0.3165\n",
            "Epoch 43/50\n",
            "4095/4095 [==============================] - 4s 932us/sample - loss: 1.9506 - acc: 0.2957 - val_loss: 2.0245 - val_acc: 0.3077\n",
            "Epoch 44/50\n",
            "4095/4095 [==============================] - 4s 921us/sample - loss: 1.9401 - acc: 0.2923 - val_loss: 2.0205 - val_acc: 0.3319\n",
            "Epoch 45/50\n",
            "4095/4095 [==============================] - 4s 916us/sample - loss: 1.9359 - acc: 0.3038 - val_loss: 2.0237 - val_acc: 0.3077\n",
            "Epoch 46/50\n",
            "4095/4095 [==============================] - 4s 863us/sample - loss: 1.9342 - acc: 0.2906 - val_loss: 2.0124 - val_acc: 0.2989\n",
            "Epoch 47/50\n",
            "4095/4095 [==============================] - 4s 881us/sample - loss: 1.9093 - acc: 0.3116 - val_loss: 1.9923 - val_acc: 0.3143\n",
            "Epoch 48/50\n",
            "4095/4095 [==============================] - 4s 912us/sample - loss: 1.9252 - acc: 0.3133 - val_loss: 2.0024 - val_acc: 0.2791\n",
            "Epoch 49/50\n",
            "4095/4095 [==============================] - 4s 900us/sample - loss: 1.9264 - acc: 0.3082 - val_loss: 2.0030 - val_acc: 0.3099\n",
            "Epoch 50/50\n",
            "4095/4095 [==============================] - 4s 922us/sample - loss: 1.9162 - acc: 0.3126 - val_loss: 2.0170 - val_acc: 0.3077\n"
          ],
          "name": "stdout"
        }
      ]
    },
    {
      "cell_type": "code",
      "metadata": {
        "id": "hiPVYVpLi39b",
        "colab_type": "code",
        "colab": {
          "base_uri": "https://localhost:8080/",
          "height": 573
        },
        "outputId": "f1eb41c6-592f-475f-ac9e-9c646ba83c0c"
      },
      "source": [
        "# summarize history for accuracy\n",
        "plt.plot(history.history['acc'])\n",
        "plt.plot(history.history['val_acc'])\n",
        "plt.title('model accuracy')\n",
        "plt.ylabel('accuracy')\n",
        "plt.xlabel('epoch')\n",
        "plt.legend(['train', 'test'], loc='upper left')\n",
        "plt.show()\n",
        "\n",
        "# summarize history for loss\n",
        "plt.plot(history.history['loss'])\n",
        "plt.plot(history.history['val_loss'])\n",
        "plt.title('model loss')\n",
        "plt.ylabel('loss')\n",
        "plt.xlabel('epoch')\n",
        "plt.legend(['train', 'test'], loc='upper left')\n",
        "plt.show()"
      ],
      "execution_count": 100,
      "outputs": [
        {
          "output_type": "display_data",
          "data": {
            "image/png": "[encoded data removed]",
            "text/plain": [
              "<Figure size 432x288 with 1 Axes>"
            ]
          },
          "metadata": {
            "tags": []
          }
        },
        {
          "output_type": "display_data",
          "data": {
            "image/png": "[encoded data removed]",
            "text/plain": [
              "<Figure size 432x288 with 1 Axes>"
            ]
          },
          "metadata": {
            "tags": []
          }
        }
      ]
    },
    {
      "cell_type": "code",
      "metadata": {
        "id": "6PjCoun3nHTC",
        "colab_type": "code",
        "colab": {}
      },
      "source": [
        "def plot_confusion_matrix(y_true, y_pred, classes,\n",
        "                          normalize=False,\n",
        "                          title=None,\n",
        "                          cmap=plt.cm.Blues):\n",
        "    \"\"\"\n",
        "    This function prints and plots the confusion matrix.\n",
        "    Normalization can be applied by setting `normalize=True`.\n",
        "    \"\"\"\n",
        "    if not title:\n",
        "        if normalize:\n",
        "            title = 'Normalized confusion matrix'\n",
        "        else:\n",
        "            title = 'Confusion matrix, without normalization'\n",
        "\n",
        "    # Compute confusion matrix\n",
        "    cm = confusion_matrix(y_true, y_pred)\n",
        "    # Only use the labels that appear in the data\n",
        "    #classes = classes[unique_labels(y_true, y_pred)]\n",
        "    if normalize:\n",
        "        cm = cm.astype('float') / cm.sum(axis=1)[:, np.newaxis]\n",
        "        print(\"Normalized confusion matrix\")\n",
        "    else:\n",
        "        print('Confusion matrix, without normalization')\n",
        "\n",
        "    #print(cm)\n",
        "\n",
        "    fig, ax = plt.subplots()\n",
        "    im = ax.imshow(cm, interpolation='nearest', cmap=cmap)\n",
        "    ax.figure.colorbar(im, ax=ax)\n",
        "    # We want to show all ticks...\n",
        "    ax.set(xticks=np.arange(cm.shape[1]),\n",
        "           yticks=np.arange(cm.shape[0]),\n",
        "           # ... and label them with the respective list entries\n",
        "           xticklabels=classes, yticklabels=classes,\n",
        "           title=title,\n",
        "           ylabel='True label',\n",
        "           xlabel='Predicted label')\n",
        "\n",
        "    # Rotate the tick labels and set their alignment.\n",
        "    plt.setp(ax.get_xticklabels(), rotation=45, ha=\"right\",\n",
        "             rotation_mode=\"anchor\")\n",
        "\n",
        "    # Loop over data dimensions and create text annotations.\n",
        "    fmt = '.2f' if normalize else 'd'\n",
        "    thresh = cm.max() / 2.\n",
        "    for i in range(cm.shape[0]):\n",
        "        for j in range(cm.shape[1]):\n",
        "            ax.text(j, i, format(cm[i, j], fmt),\n",
        "                    ha=\"center\", va=\"center\",\n",
        "                    color=\"white\" if cm[i, j] > thresh else \"black\")\n",
        "    fig.tight_layout()\n",
        "    return ax"
      ],
      "execution_count": 0,
      "outputs": []
    },
    {
      "cell_type": "code",
      "metadata": {
        "id": "i0c57Lgzm1dG",
        "colab_type": "code",
        "colab": {
          "base_uri": "https://localhost:8080/",
          "height": 331
        },
        "outputId": "04a3f7c8-9b8f-436a-d541-e00226f3eead"
      },
      "source": [
        "y_pred = model.predict([raw_test, qp_test])\n",
        "y_index =np.zeros(len(y_pred))\n",
        "\n",
        "for i in range(len(y_pred)):\n",
        "    y_index[i] = np.argmax(y_pred[i])\n",
        "\n",
        "y_test = y_test.astype(int)\n",
        "y_index = y_index.astype(int)\n",
        "\n",
        "class_names = [\"None\", \"Horz\", \"Vert\", \"Split\", \"Horz A\", \"Horz B\", \"Vert A\", \"Vert B\", \"Horz 4\", \"Vert 4\"]\n",
        "\n",
        "plot_confusion_matrix(y_test, y_index, classes=class_names,\n",
        "                      title='Confusion matrix, without normalization')\n"
      ],
      "execution_count": 112,
      "outputs": [
        {
          "output_type": "stream",
          "text": [
            "Confusion matrix, without normalization\n"
          ],
          "name": "stdout"
        },
        {
          "output_type": "execute_result",
          "data": {
            "text/plain": [
              "<matplotlib.axes._subplots.AxesSubplot at 0x7f0e7028d048>"
            ]
          },
          "metadata": {
            "tags": []
          },
          "execution_count": 112
        },
        {
          "output_type": "display_data",
          "data": {
            "image/png": "[encoded data removed]",
            "text/plain": [
              "<Figure size 432x288 with 2 Axes>"
            ]
          },
          "metadata": {
            "tags": []
          }
        }
      ]
    }
  ]
}