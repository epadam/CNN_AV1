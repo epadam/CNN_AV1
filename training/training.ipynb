{
  "nbformat": 4,
  "nbformat_minor": 0,
  "metadata": {
    "colab": {
      "name": "training.ipynb",
      "provenance": [],
      "collapsed_sections": [],
      "include_colab_link": true
    },
    "kernelspec": {
      "name": "python3",
      "display_name": "Python 3"
    }
  },
  "cells": [
    {
      "cell_type": "markdown",
      "metadata": {
        "id": "view-in-github",
        "colab_type": "text"
      },
      "source": [
        "<a href=\"https://colab.research.google.com/github/epadam/CNN_AV1/blob/master/training/training.ipynb\" target=\"_parent\"><img src=\"https://colab.research.google.com/assets/colab-badge.svg\" alt=\"Open In Colab\"/></a>"
      ]
    },
    {
      "cell_type": "code",
      "metadata": {
        "id": "kGXyub1PGLAd",
        "colab_type": "code",
        "colab": {}
      },
      "source": [
        "import os, sys, pickle, json\n",
        "from os import makedirs\n",
        "from os.path import exists, join\n",
        "import tensorflow as tf\n",
        "import numpy as np\n",
        "import matplotlib.pyplot as plt\n",
        "from tensorflow import keras\n",
        "from tensorflow.keras.models import load_model\n",
        "from tensorflow.keras.callbacks import TensorBoard\n",
        "from sklearn.metrics import classification_report, confusion_matrix\n",
        "from sklearn.utils.multiclass import unique_labels"
      ],
      "execution_count": 0,
      "outputs": []
    },
    {
      "cell_type": "code",
      "metadata": {
        "id": "GZDqHMuWOOR0",
        "colab_type": "code",
        "colab": {
          "base_uri": "https://localhost:8080/",
          "height": 153
        },
        "outputId": "422bcda8-f334-45cb-ea0d-1c19aac5a01d"
      },
      "source": [
        "import urllib.request\n",
        "#request dataset for 16, 32, 64 \n",
        "urllib.request.urlretrieve('http://download2269.mediafire.com/n3loxvto5yag/txp7zspyh5njd7o/merge_aecf_samples_64_intra_uint8.txt', 'undersampling_pixel_64.txt')\n",
        "urllib.request.urlretrieve('http://download2268.mediafire.com/pmniu1lnafkg/6uxaiphdd61m10n/merge_aecf_labels_64_intra.txt', 'undersampling_labels_64.txt')\n",
        "urllib.request.urlretrieve('http://download1525.mediafire.com/xakscozs0qxg/n6y8a8negm2yzhe/merge_aecf_qps_64_intra.txt', 'undersampling_QPs_64.txt')\n",
        "os.listdir()"
      ],
      "execution_count": 49,
      "outputs": [
        {
          "output_type": "execute_result",
          "data": {
            "text/plain": [
              "['.config',\n",
              " 'ash_qps_16_intra.txt',\n",
              " 'undersampling_QPs_64.txt',\n",
              " 'undersampling_pixel_64.txt',\n",
              " 'ash_labels_16_intra.txt',\n",
              " 'ash_qps_32_intra.txt',\n",
              " 'undersampling_labels_64.txt',\n",
              " 'sample_data']"
            ]
          },
          "metadata": {
            "tags": []
          },
          "execution_count": 49
        }
      ]
    },
    {
      "cell_type": "code",
      "metadata": {
        "id": "RGj1jb8RcqFQ",
        "colab_type": "code",
        "colab": {}
      },
      "source": [
        "batch_size = 128\n",
        "num_classes = 10\n",
        "block_size = 64\n",
        "NUM_CHANNELS = 1\n",
        "epochs = 10"
      ],
      "execution_count": 0,
      "outputs": []
    },
    {
      "cell_type": "code",
      "metadata": {
        "id": "HLU3E-gjU4Pl",
        "colab_type": "code",
        "colab": {
          "base_uri": "https://localhost:8080/",
          "height": 85
        },
        "outputId": "063568f7-481f-49cc-cccb-6d363c1e6f93"
      },
      "source": [
        "sample_file = 'undersampling_pixel_64.txt'\n",
        "label_file = 'undersampling_labels_64.txt'\n",
        "qp_file = 'undersampling_QPs_64.txt'\n",
        "\n",
        "with open(sample_file, 'rb') as f:\n",
        "    pixels = f.read()\n",
        "    raw = np.frombuffer(pixels, dtype = np.uint8)\n",
        "    print(np.shape(raw))\n",
        "    raw = np.reshape(raw, [-1, block_size, block_size, NUM_CHANNELS])\n",
        "    print(np.shape(raw))\n",
        "\n",
        "\n",
        "with open(label_file, 'r') as f_single_label:\n",
        "    single_label = f_single_label.read()    \n",
        "    single_label =np.fromstring (single_label, dtype=np.uint8 ,sep=' ')\n",
        "    single_label = np.reshape(single_label, [-1])\n",
        "    single_label = keras.utils.to_categorical(single_label, num_classes)\n",
        "    print(np.shape(single_label))\n",
        "\n",
        "\n",
        "with open(qp_file, 'r') as f_qp:\n",
        "    qps = f_qp.read()\n",
        "    qps =np.fromstring (qps, dtype=np.uint8, sep=' ')\n",
        "    qps = np.reshape(qps, [-1,1])\n",
        "    print(np.shape(qps)) \n"
      ],
      "execution_count": 69,
      "outputs": [
        {
          "output_type": "stream",
          "text": [
            "(18636800,)\n",
            "(4550, 64, 64, 1)\n",
            "(4550, 10)\n",
            "(4550, 1)\n"
          ],
          "name": "stdout"
        }
      ]
    },
    {
      "cell_type": "code",
      "metadata": {
        "id": "yoPMXfYscmfq",
        "colab_type": "code",
        "colab": {}
      },
      "source": [
        "# check how the samples look like\n",
        "image = np.reshape(raw, [-1, block_size, block_size])\n",
        "for i in range(10):\n",
        "\tprint('partition=',single_label[i], 'QP=',qps[i,0])\n",
        "\tplt.imshow(image[i], cmap='gray')\n",
        "\tplt.colorbar()\n",
        "\tplt.show()"
      ],
      "execution_count": 0,
      "outputs": []
    },
    {
      "cell_type": "code",
      "metadata": {
        "id": "BBwRijUIgnYk",
        "colab_type": "code",
        "colab": {}
      },
      "source": [
        "from tensorflow.keras import optimizers, backend\n",
        "from tensorflow.keras.models import Sequential, Model\n",
        "from tensorflow.keras.layers import Input, Dense, Dropout, Activation, Flatten, Concatenate, Conv2D, MaxPooling2D, Lambda, BatchNormalization\n",
        "from tensorflow.keras.callbacks import TensorBoard\n",
        "from tensorflow.keras.utils import plot_model"
      ],
      "execution_count": 0,
      "outputs": []
    },
    {
      "cell_type": "code",
      "metadata": {
        "id": "ifitVpAIg6Ss",
        "colab_type": "code",
        "colab": {}
      },
      "source": [
        "def sub_mean(x):\n",
        "    x = x/255\n",
        "    x = x - backend.mean(x)   \n",
        "    return x\n",
        "\n",
        "\n",
        "def net():\n",
        "\n",
        "    data = Input(shape=(block_size,block_size,NUM_CHANNELS))\n",
        "\n",
        "    data_norm = Lambda(sub_mean)(data)\n",
        "\n",
        "    conv1 = Conv2D(16, (4, 4), strides =(4,4),padding='valid', activation='relu')(data_norm)\n",
        "    conv1_dropout = Dropout(rate=0.7)(conv1)\n",
        "    #conv1_Norm = BatchNormalization()(conv1)\n",
        "\n",
        "    conv2 = Conv2D(24, (2, 2), strides =(2,2), activation='relu', padding='valid')(conv1_dropout)\n",
        "    conv2_dropout = Dropout(rate=0.7)(conv2)\n",
        "    #conv2_Norm = BatchNormalization()(conv2)\n",
        "    flat2 = Flatten()(conv2_dropout)\n",
        "\n",
        "    conv3 = Conv2D(32, (2, 2), strides =(2,2), activation='relu', padding='valid')(conv2_dropout)\n",
        "    conv3_dropout = Dropout(rate=0.7)(conv3)\n",
        "    #conv3_Norm = BatchNormalization()(conv3)\n",
        "    flat3 = Flatten()(conv3_dropout)\n",
        "\n",
        "    qp = Input(shape=(1,))\n",
        "    qp_n = Lambda(lambda x: x/255)(qp)\n",
        "\n",
        "    concat = Concatenate(axis=1)([flat2, flat3, qp_n])\n",
        "\n",
        "    \n",
        "    fc1 = Dense(64, activation='relu')(concat)\n",
        "    fc1_dropout = Dropout(rate=0.7)(fc1)\n",
        "    fc1_qp = Concatenate(axis=1)([fc1_dropout, qp_n])\n",
        "\n",
        "    fc2 = Dense(48, activation='relu')(fc1_qp)\n",
        "    fc2_dropout = Dropout(rate=0.7)(fc2)\n",
        "    fc2_qp = Concatenate(axis=1)([fc2_dropout, qp_n])\n",
        "\n",
        "    output = Dense(num_classes, activation='softmax')(fc2_qp)\n",
        "\n",
        "    model = Model(inputs=[data,qp], outputs=output)\n",
        "\n",
        "    model.summary()\n",
        "\n",
        "    model.compile(loss='categorical_crossentropy',\n",
        "                  optimizer=keras.optimizers.Adam(lr=0.001),\n",
        "                  metrics=['accuracy'])\n",
        "\n",
        "    #plot_model(model, to_file='cnn_model.png', show_shapes=1)\n",
        "    \n",
        "    return model"
      ],
      "execution_count": 0,
      "outputs": []
    },
    {
      "cell_type": "code",
      "metadata": {
        "id": "FqRaJvWMhelT",
        "colab_type": "code",
        "colab": {
          "base_uri": "https://localhost:8080/",
          "height": 901
        },
        "outputId": "ddbae8b5-bdfa-4aac-ebc2-aeeab9906f28"
      },
      "source": [
        "model = net()"
      ],
      "execution_count": 72,
      "outputs": [
        {
          "output_type": "stream",
          "text": [
            "Model: \"model_2\"\n",
            "__________________________________________________________________________________________________\n",
            "Layer (type)                    Output Shape         Param #     Connected to                     \n",
            "==================================================================================================\n",
            "input_5 (InputLayer)            [(None, 64, 64, 1)]  0                                            \n",
            "__________________________________________________________________________________________________\n",
            "lambda_4 (Lambda)               (None, 64, 64, 1)    0           input_5[0][0]                    \n",
            "__________________________________________________________________________________________________\n",
            "conv2d_6 (Conv2D)               (None, 16, 16, 16)   272         lambda_4[0][0]                   \n",
            "__________________________________________________________________________________________________\n",
            "dropout_10 (Dropout)            (None, 16, 16, 16)   0           conv2d_6[0][0]                   \n",
            "__________________________________________________________________________________________________\n",
            "conv2d_7 (Conv2D)               (None, 8, 8, 24)     1560        dropout_10[0][0]                 \n",
            "__________________________________________________________________________________________________\n",
            "dropout_11 (Dropout)            (None, 8, 8, 24)     0           conv2d_7[0][0]                   \n",
            "__________________________________________________________________________________________________\n",
            "conv2d_8 (Conv2D)               (None, 4, 4, 32)     3104        dropout_11[0][0]                 \n",
            "__________________________________________________________________________________________________\n",
            "dropout_12 (Dropout)            (None, 4, 4, 32)     0           conv2d_8[0][0]                   \n",
            "__________________________________________________________________________________________________\n",
            "input_6 (InputLayer)            [(None, 1)]          0                                            \n",
            "__________________________________________________________________________________________________\n",
            "flatten_4 (Flatten)             (None, 1536)         0           dropout_11[0][0]                 \n",
            "__________________________________________________________________________________________________\n",
            "flatten_5 (Flatten)             (None, 512)          0           dropout_12[0][0]                 \n",
            "__________________________________________________________________________________________________\n",
            "lambda_5 (Lambda)               (None, 1)            0           input_6[0][0]                    \n",
            "__________________________________________________________________________________________________\n",
            "concatenate_6 (Concatenate)     (None, 2049)         0           flatten_4[0][0]                  \n",
            "                                                                 flatten_5[0][0]                  \n",
            "                                                                 lambda_5[0][0]                   \n",
            "__________________________________________________________________________________________________\n",
            "dense_6 (Dense)                 (None, 64)           131200      concatenate_6[0][0]              \n",
            "__________________________________________________________________________________________________\n",
            "dropout_13 (Dropout)            (None, 64)           0           dense_6[0][0]                    \n",
            "__________________________________________________________________________________________________\n",
            "concatenate_7 (Concatenate)     (None, 65)           0           dropout_13[0][0]                 \n",
            "                                                                 lambda_5[0][0]                   \n",
            "__________________________________________________________________________________________________\n",
            "dense_7 (Dense)                 (None, 48)           3168        concatenate_7[0][0]              \n",
            "__________________________________________________________________________________________________\n",
            "dropout_14 (Dropout)            (None, 48)           0           dense_7[0][0]                    \n",
            "__________________________________________________________________________________________________\n",
            "concatenate_8 (Concatenate)     (None, 49)           0           dropout_14[0][0]                 \n",
            "                                                                 lambda_5[0][0]                   \n",
            "__________________________________________________________________________________________________\n",
            "dense_8 (Dense)                 (None, 10)           500         concatenate_8[0][0]              \n",
            "==================================================================================================\n",
            "Total params: 139,804\n",
            "Trainable params: 139,804\n",
            "Non-trainable params: 0\n",
            "__________________________________________________________________________________________________\n"
          ],
          "name": "stdout"
        }
      ]
    },
    {
      "cell_type": "code",
      "metadata": {
        "id": "kkG_VEEZhvuZ",
        "colab_type": "code",
        "colab": {
          "base_uri": "https://localhost:8080/",
          "height": 374
        },
        "outputId": "47fff1cd-293a-4c38-cda4-fbb7507495b4"
      },
      "source": [
        "history = model.fit([raw, qps], single_label, validation_split=0.1, batch_size=batch_size, epochs=epochs, verbose=1)\n"
      ],
      "execution_count": 73,
      "outputs": [
        {
          "output_type": "stream",
          "text": [
            "Train on 4095 samples, validate on 455 samples\n",
            "Epoch 1/10\n",
            "4095/4095 [==============================] - 2s 504us/sample - loss: 2.3153 - acc: 0.0984 - val_loss: 2.3010 - val_acc: 0.1099\n",
            "Epoch 2/10\n",
            "4095/4095 [==============================] - 1s 341us/sample - loss: 2.3056 - acc: 0.1021 - val_loss: 2.3011 - val_acc: 0.1077\n",
            "Epoch 3/10\n",
            "4095/4095 [==============================] - 1s 317us/sample - loss: 2.3050 - acc: 0.1038 - val_loss: 2.3009 - val_acc: 0.1143\n",
            "Epoch 4/10\n",
            "4095/4095 [==============================] - 1s 308us/sample - loss: 2.3043 - acc: 0.1023 - val_loss: 2.3010 - val_acc: 0.1253\n",
            "Epoch 5/10\n",
            "4095/4095 [==============================] - 1s 315us/sample - loss: 2.3017 - acc: 0.1079 - val_loss: 2.3005 - val_acc: 0.1319\n",
            "Epoch 6/10\n",
            "4095/4095 [==============================] - 1s 329us/sample - loss: 2.3037 - acc: 0.0984 - val_loss: 2.3006 - val_acc: 0.1275\n",
            "Epoch 7/10\n",
            "4095/4095 [==============================] - 1s 314us/sample - loss: 2.3009 - acc: 0.1057 - val_loss: 2.2994 - val_acc: 0.1165\n",
            "Epoch 8/10\n",
            "4095/4095 [==============================] - 1s 315us/sample - loss: 2.3022 - acc: 0.1006 - val_loss: 2.3001 - val_acc: 0.1319\n",
            "Epoch 9/10\n",
            "4095/4095 [==============================] - 1s 317us/sample - loss: 2.3011 - acc: 0.1114 - val_loss: 2.2995 - val_acc: 0.1121\n",
            "Epoch 10/10\n",
            "4095/4095 [==============================] - 1s 335us/sample - loss: 2.3018 - acc: 0.1170 - val_loss: 2.3000 - val_acc: 0.1055\n"
          ],
          "name": "stdout"
        }
      ]
    },
    {
      "cell_type": "code",
      "metadata": {
        "id": "hiPVYVpLi39b",
        "colab_type": "code",
        "colab": {
          "base_uri": "https://localhost:8080/",
          "height": 573
        },
        "outputId": "e2445fac-7146-460a-8583-9c2fdef83a41"
      },
      "source": [
        "# summarize history for accuracy\n",
        "plt.plot(history.history['acc'])\n",
        "plt.plot(history.history['val_acc'])\n",
        "plt.title('model accuracy')\n",
        "plt.ylabel('accuracy')\n",
        "plt.xlabel('epoch')\n",
        "plt.legend(['train', 'test'], loc='upper left')\n",
        "plt.show()\n",
        "\n",
        "# summarize history for loss\n",
        "plt.plot(history.history['loss'])\n",
        "plt.plot(history.history['val_loss'])\n",
        "plt.title('model loss')\n",
        "plt.ylabel('loss')\n",
        "plt.xlabel('epoch')\n",
        "plt.legend(['train', 'test'], loc='upper left')\n",
        "plt.show()"
      ],
      "execution_count": 75,
      "outputs": [
        {
          "output_type": "display_data",
          "data": {
            "image/png": "[encoded data removed]",
            "text/plain": [
              "<Figure size 432x288 with 1 Axes>"
            ]
          },
          "metadata": {
            "tags": []
          }
        },
        {
          "output_type": "display_data",
          "data": {
            "image/png": "[encoded data removed]",
            "text/plain": [
              "<Figure size 432x288 with 1 Axes>"
            ]
          },
          "metadata": {
            "tags": []
          }
        }
      ]
    }
  ]
}